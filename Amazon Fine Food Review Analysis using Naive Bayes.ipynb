{
 "cells": [
  {
   "cell_type": "markdown",
   "metadata": {},
   "source": [
    "<h1>Amazon Fine Food Reviews Analysis</h1>\n",
    "\n",
    "Data Source: https://www.kaggle.com/snap/amazon-fine-food-reviews\n",
    "\n",
    "The Amazon Fine Food Reviews dataset consists of reviews of fine foods from Amazon.\n",
    "\n",
    "Number of reviews: 568,454\n",
    "Number of users: 256,059\n",
    "Number of products: 74,258\n",
    "Timespan: Oct 1999 - Oct 2012\n",
    "Number of Attributes/Columns in data: 10\n",
    "\n",
    "Attribute Information:\n",
    "<ol>\n",
    "<li>Id</li>\n",
    "<li>ProductId - unique identifier for the product</li>\n",
    "<li>UserId - unqiue identifier for the user</li>\n",
    "<li>ProfileName</li>\n",
    "<li>HelpfulnessNumerator - number of users who found the review helpful</li>\n",
    "<li>HelpfulnessDenominator - number of users who indicated whether they found the review helpful or not</li>\n",
    "<li>Score - rating between 1 and 5</li>\n",
    "<li>Time - timestamp for the review</li>\n",
    "<li>Summary - brief summary of the review</li>\n",
    "<li>Text - text of the review</li>\n",
    "</ol>\n",
    "<b>Objective:-</b> Given a review, determine whether the review is positive (Rating of 4 or 5) or negative (rating of 1 or 2).\n",
    "\n",
    "\n",
    "[Q] How to determine if a review is positive or negative?\n",
    "\n",
    "[Ans] We could use the Score/Rating. A rating of 4 or 5 could be cosnidered a positive review. A review of 1 or 2 could be considered negative. A review of 3 is nuetral and ignored. This is an approximate and proxy way of determining the polarity (positivity/negativity) of a review.\n",
    "\n",
    "<h3>Loading the data</h3>\n",
    "\n",
    "The dataset is available in two forms\n",
    "\n",
    "1.csv file\n",
    "2.SQLite Database\n",
    "In order to load the data, We have used the SQLITE dataset as it easier to query the data and visualise the data efficiently.\n",
    "\n",
    "Here as we only want to get the global sentiment of the recommendations (positive or negative), we will purposefully ignore all Scores equal to 3. If the score id above 3, then the recommendation wil be set to \"positive\". Otherwise, it will be set to \"negative\"."
   ]
  },
  {
   "cell_type": "code",
   "execution_count": 1,
   "metadata": {},
   "outputs": [],
   "source": [
    "%matplotlib inline\n",
    "import warnings\n",
    "warnings.filterwarnings(\"ignore\")\n",
    "import sqlite3\n",
    "import pandas as pd\n",
    "import numpy as np\n",
    "import nltk\n",
    "import string\n",
    "import matplotlib.pyplot as plt\n",
    "import seaborn as sns\n",
    "from sklearn.feature_extraction.text import TfidfTransformer\n",
    "from sklearn.feature_extraction.text import TfidfVectorizer\n",
    "\n",
    "from sklearn.feature_extraction.text import CountVectorizer\n",
    "from sklearn.metrics import confusion_matrix\n",
    "from sklearn import metrics\n",
    "from sklearn.metrics import roc_curve, auc\n",
    "from nltk.stem.porter import PorterStemmer\n",
    "\n",
    "import re\n",
    "\n",
    "from nltk.corpus import stopwords\n",
    "from nltk.tokenize import word_tokenize\n",
    "from nltk.stem import PorterStemmer\n",
    "from nltk.stem.wordnet import WordNetLemmatizer\n",
    "\n",
    "from gensim.models import Word2Vec\n",
    "from gensim.models import KeyedVectors\n",
    "import pickle\n",
    "\n",
    "from tqdm import tqdm\n",
    "import os"
   ]
  },
  {
   "cell_type": "code",
   "execution_count": 2,
   "metadata": {},
   "outputs": [],
   "source": [
    "con=sqlite3.connect(\"C:/Users/Aleti Sunil/Downloads/18_2157_compressed_database.sqlite/database.sqlite\")"
   ]
  },
  {
   "cell_type": "code",
   "execution_count": 3,
   "metadata": {},
   "outputs": [],
   "source": [
    "filtered_data=pd.read_sql_query(\"\"\"\n",
    "select * from reviews where Score!=3 \"\"\",con)"
   ]
  },
  {
   "cell_type": "code",
   "execution_count": 4,
   "metadata": {},
   "outputs": [
    {
     "data": {
      "text/html": [
       "<div>\n",
       "<style scoped>\n",
       "    .dataframe tbody tr th:only-of-type {\n",
       "        vertical-align: middle;\n",
       "    }\n",
       "\n",
       "    .dataframe tbody tr th {\n",
       "        vertical-align: top;\n",
       "    }\n",
       "\n",
       "    .dataframe thead th {\n",
       "        text-align: right;\n",
       "    }\n",
       "</style>\n",
       "<table border=\"1\" class=\"dataframe\">\n",
       "  <thead>\n",
       "    <tr style=\"text-align: right;\">\n",
       "      <th></th>\n",
       "      <th>Id</th>\n",
       "      <th>ProductId</th>\n",
       "      <th>UserId</th>\n",
       "      <th>ProfileName</th>\n",
       "      <th>HelpfulnessNumerator</th>\n",
       "      <th>HelpfulnessDenominator</th>\n",
       "      <th>Score</th>\n",
       "      <th>Time</th>\n",
       "      <th>Summary</th>\n",
       "      <th>Text</th>\n",
       "    </tr>\n",
       "  </thead>\n",
       "  <tbody>\n",
       "    <tr>\n",
       "      <th>0</th>\n",
       "      <td>1</td>\n",
       "      <td>B001E4KFG0</td>\n",
       "      <td>A3SGXH7AUHU8GW</td>\n",
       "      <td>delmartian</td>\n",
       "      <td>1</td>\n",
       "      <td>1</td>\n",
       "      <td>5</td>\n",
       "      <td>1303862400</td>\n",
       "      <td>Good Quality Dog Food</td>\n",
       "      <td>I have bought several of the Vitality canned d...</td>\n",
       "    </tr>\n",
       "    <tr>\n",
       "      <th>1</th>\n",
       "      <td>2</td>\n",
       "      <td>B00813GRG4</td>\n",
       "      <td>A1D87F6ZCVE5NK</td>\n",
       "      <td>dll pa</td>\n",
       "      <td>0</td>\n",
       "      <td>0</td>\n",
       "      <td>1</td>\n",
       "      <td>1346976000</td>\n",
       "      <td>Not as Advertised</td>\n",
       "      <td>Product arrived labeled as Jumbo Salted Peanut...</td>\n",
       "    </tr>\n",
       "    <tr>\n",
       "      <th>2</th>\n",
       "      <td>3</td>\n",
       "      <td>B000LQOCH0</td>\n",
       "      <td>ABXLMWJIXXAIN</td>\n",
       "      <td>Natalia Corres \"Natalia Corres\"</td>\n",
       "      <td>1</td>\n",
       "      <td>1</td>\n",
       "      <td>4</td>\n",
       "      <td>1219017600</td>\n",
       "      <td>\"Delight\" says it all</td>\n",
       "      <td>This is a confection that has been around a fe...</td>\n",
       "    </tr>\n",
       "    <tr>\n",
       "      <th>3</th>\n",
       "      <td>4</td>\n",
       "      <td>B000UA0QIQ</td>\n",
       "      <td>A395BORC6FGVXV</td>\n",
       "      <td>Karl</td>\n",
       "      <td>3</td>\n",
       "      <td>3</td>\n",
       "      <td>2</td>\n",
       "      <td>1307923200</td>\n",
       "      <td>Cough Medicine</td>\n",
       "      <td>If you are looking for the secret ingredient i...</td>\n",
       "    </tr>\n",
       "    <tr>\n",
       "      <th>4</th>\n",
       "      <td>5</td>\n",
       "      <td>B006K2ZZ7K</td>\n",
       "      <td>A1UQRSCLF8GW1T</td>\n",
       "      <td>Michael D. Bigham \"M. Wassir\"</td>\n",
       "      <td>0</td>\n",
       "      <td>0</td>\n",
       "      <td>5</td>\n",
       "      <td>1350777600</td>\n",
       "      <td>Great taffy</td>\n",
       "      <td>Great taffy at a great price.  There was a wid...</td>\n",
       "    </tr>\n",
       "  </tbody>\n",
       "</table>\n",
       "</div>"
      ],
      "text/plain": [
       "   Id   ProductId          UserId                      ProfileName  \\\n",
       "0   1  B001E4KFG0  A3SGXH7AUHU8GW                       delmartian   \n",
       "1   2  B00813GRG4  A1D87F6ZCVE5NK                           dll pa   \n",
       "2   3  B000LQOCH0   ABXLMWJIXXAIN  Natalia Corres \"Natalia Corres\"   \n",
       "3   4  B000UA0QIQ  A395BORC6FGVXV                             Karl   \n",
       "4   5  B006K2ZZ7K  A1UQRSCLF8GW1T    Michael D. Bigham \"M. Wassir\"   \n",
       "\n",
       "   HelpfulnessNumerator  HelpfulnessDenominator  Score        Time  \\\n",
       "0                     1                       1      5  1303862400   \n",
       "1                     0                       0      1  1346976000   \n",
       "2                     1                       1      4  1219017600   \n",
       "3                     3                       3      2  1307923200   \n",
       "4                     0                       0      5  1350777600   \n",
       "\n",
       "                 Summary                                               Text  \n",
       "0  Good Quality Dog Food  I have bought several of the Vitality canned d...  \n",
       "1      Not as Advertised  Product arrived labeled as Jumbo Salted Peanut...  \n",
       "2  \"Delight\" says it all  This is a confection that has been around a fe...  \n",
       "3         Cough Medicine  If you are looking for the secret ingredient i...  \n",
       "4            Great taffy  Great taffy at a great price.  There was a wid...  "
      ]
     },
     "execution_count": 4,
     "metadata": {},
     "output_type": "execute_result"
    }
   ],
   "source": [
    "filtered_data.head(5)"
   ]
  },
  {
   "cell_type": "markdown",
   "metadata": {},
   "source": [
    "Taking Scores of  1,2,4,5 <br>\n",
    "1,2 represents negative\n",
    "4,5 represents positive"
   ]
  },
  {
   "cell_type": "code",
   "execution_count": 5,
   "metadata": {},
   "outputs": [
    {
     "data": {
      "text/html": [
       "<div>\n",
       "<style scoped>\n",
       "    .dataframe tbody tr th:only-of-type {\n",
       "        vertical-align: middle;\n",
       "    }\n",
       "\n",
       "    .dataframe tbody tr th {\n",
       "        vertical-align: top;\n",
       "    }\n",
       "\n",
       "    .dataframe thead th {\n",
       "        text-align: right;\n",
       "    }\n",
       "</style>\n",
       "<table border=\"1\" class=\"dataframe\">\n",
       "  <thead>\n",
       "    <tr style=\"text-align: right;\">\n",
       "      <th></th>\n",
       "      <th>Id</th>\n",
       "      <th>ProductId</th>\n",
       "      <th>UserId</th>\n",
       "      <th>ProfileName</th>\n",
       "      <th>HelpfulnessNumerator</th>\n",
       "      <th>HelpfulnessDenominator</th>\n",
       "      <th>Score</th>\n",
       "      <th>Time</th>\n",
       "      <th>Summary</th>\n",
       "      <th>Text</th>\n",
       "    </tr>\n",
       "  </thead>\n",
       "  <tbody>\n",
       "    <tr>\n",
       "      <th>0</th>\n",
       "      <td>1</td>\n",
       "      <td>B001E4KFG0</td>\n",
       "      <td>A3SGXH7AUHU8GW</td>\n",
       "      <td>delmartian</td>\n",
       "      <td>1</td>\n",
       "      <td>1</td>\n",
       "      <td>1</td>\n",
       "      <td>1303862400</td>\n",
       "      <td>Good Quality Dog Food</td>\n",
       "      <td>I have bought several of the Vitality canned d...</td>\n",
       "    </tr>\n",
       "    <tr>\n",
       "      <th>1</th>\n",
       "      <td>2</td>\n",
       "      <td>B00813GRG4</td>\n",
       "      <td>A1D87F6ZCVE5NK</td>\n",
       "      <td>dll pa</td>\n",
       "      <td>0</td>\n",
       "      <td>0</td>\n",
       "      <td>0</td>\n",
       "      <td>1346976000</td>\n",
       "      <td>Not as Advertised</td>\n",
       "      <td>Product arrived labeled as Jumbo Salted Peanut...</td>\n",
       "    </tr>\n",
       "    <tr>\n",
       "      <th>2</th>\n",
       "      <td>3</td>\n",
       "      <td>B000LQOCH0</td>\n",
       "      <td>ABXLMWJIXXAIN</td>\n",
       "      <td>Natalia Corres \"Natalia Corres\"</td>\n",
       "      <td>1</td>\n",
       "      <td>1</td>\n",
       "      <td>1</td>\n",
       "      <td>1219017600</td>\n",
       "      <td>\"Delight\" says it all</td>\n",
       "      <td>This is a confection that has been around a fe...</td>\n",
       "    </tr>\n",
       "    <tr>\n",
       "      <th>3</th>\n",
       "      <td>4</td>\n",
       "      <td>B000UA0QIQ</td>\n",
       "      <td>A395BORC6FGVXV</td>\n",
       "      <td>Karl</td>\n",
       "      <td>3</td>\n",
       "      <td>3</td>\n",
       "      <td>0</td>\n",
       "      <td>1307923200</td>\n",
       "      <td>Cough Medicine</td>\n",
       "      <td>If you are looking for the secret ingredient i...</td>\n",
       "    </tr>\n",
       "    <tr>\n",
       "      <th>4</th>\n",
       "      <td>5</td>\n",
       "      <td>B006K2ZZ7K</td>\n",
       "      <td>A1UQRSCLF8GW1T</td>\n",
       "      <td>Michael D. Bigham \"M. Wassir\"</td>\n",
       "      <td>0</td>\n",
       "      <td>0</td>\n",
       "      <td>1</td>\n",
       "      <td>1350777600</td>\n",
       "      <td>Great taffy</td>\n",
       "      <td>Great taffy at a great price.  There was a wid...</td>\n",
       "    </tr>\n",
       "  </tbody>\n",
       "</table>\n",
       "</div>"
      ],
      "text/plain": [
       "   Id   ProductId          UserId                      ProfileName  \\\n",
       "0   1  B001E4KFG0  A3SGXH7AUHU8GW                       delmartian   \n",
       "1   2  B00813GRG4  A1D87F6ZCVE5NK                           dll pa   \n",
       "2   3  B000LQOCH0   ABXLMWJIXXAIN  Natalia Corres \"Natalia Corres\"   \n",
       "3   4  B000UA0QIQ  A395BORC6FGVXV                             Karl   \n",
       "4   5  B006K2ZZ7K  A1UQRSCLF8GW1T    Michael D. Bigham \"M. Wassir\"   \n",
       "\n",
       "   HelpfulnessNumerator  HelpfulnessDenominator Score        Time  \\\n",
       "0                     1                       1     1  1303862400   \n",
       "1                     0                       0     0  1346976000   \n",
       "2                     1                       1     1  1219017600   \n",
       "3                     3                       3     0  1307923200   \n",
       "4                     0                       0     1  1350777600   \n",
       "\n",
       "                 Summary                                               Text  \n",
       "0  Good Quality Dog Food  I have bought several of the Vitality canned d...  \n",
       "1      Not as Advertised  Product arrived labeled as Jumbo Salted Peanut...  \n",
       "2  \"Delight\" says it all  This is a confection that has been around a fe...  \n",
       "3         Cough Medicine  If you are looking for the secret ingredient i...  \n",
       "4            Great taffy  Great taffy at a great price.  There was a wid...  "
      ]
     },
     "execution_count": 5,
     "metadata": {},
     "output_type": "execute_result"
    }
   ],
   "source": [
    "def PositiveNegative(x):\n",
    "    if x<3:\n",
    "        return '0'\n",
    "    return '1'\n",
    "filtered_data[\"Score\"]=filtered_data[\"Score\"].map(PositiveNegative)\n",
    "filtered_data.head(5)"
   ]
  },
  {
   "cell_type": "code",
   "execution_count": 6,
   "metadata": {},
   "outputs": [
    {
     "data": {
      "text/plain": [
       "1    443777\n",
       "0     82037\n",
       "Name: Score, dtype: int64"
      ]
     },
     "execution_count": 6,
     "metadata": {},
     "output_type": "execute_result"
    }
   ],
   "source": [
    "#No.of Positive and Negative classes\n",
    "filtered_data[\"Score\"].value_counts()"
   ]
  },
  {
   "cell_type": "code",
   "execution_count": 7,
   "metadata": {},
   "outputs": [],
   "source": [
    "filtered_data=filtered_data.drop_duplicates(subset={\"UserId\",\"ProfileName\",\"Time\",\"Text\"},keep=\"first\",inplace=False)"
   ]
  },
  {
   "cell_type": "code",
   "execution_count": 8,
   "metadata": {},
   "outputs": [
    {
     "data": {
      "text/plain": [
       "(364173, 10)"
      ]
     },
     "execution_count": 8,
     "metadata": {},
     "output_type": "execute_result"
    }
   ],
   "source": [
    "filtered_data.shape"
   ]
  },
  {
   "cell_type": "code",
   "execution_count": 9,
   "metadata": {},
   "outputs": [
    {
     "data": {
      "text/plain": [
       "(364171, 10)"
      ]
     },
     "execution_count": 9,
     "metadata": {},
     "output_type": "execute_result"
    }
   ],
   "source": [
    "filtered_data=filtered_data[filtered_data[\"HelpfulnessNumerator\"]<=filtered_data[\"HelpfulnessDenominator\"]]\n",
    "filtered_data.shape"
   ]
  },
  {
   "cell_type": "code",
   "execution_count": 10,
   "metadata": {},
   "outputs": [
    {
     "data": {
      "text/plain": [
       "1    307061\n",
       "0     57110\n",
       "Name: Score, dtype: int64"
      ]
     },
     "execution_count": 10,
     "metadata": {},
     "output_type": "execute_result"
    }
   ],
   "source": [
    "filtered_data[\"Score\"].value_counts()"
   ]
  },
  {
   "cell_type": "markdown",
   "metadata": {},
   "source": [
    "<h1>Text Preprocessing: Stemming, stop-word removal and Lemmatization.</h1>\n",
    "\n",
    "Now that we have finished deduplication our data requires some preprocessing before we go on further with analysis and making the prediction model.\n",
    "<h3>Hence in the Preprocessing phase we do the following in the order below:-</h3><br>\n",
    "Begin by removing the html tags.<br>\n",
    "Remove any punctuations or limited set of special characters like , or . or # etc.<br>\n",
    "Check if the word is made up of english letters and is not alpha-numeric<br>\n",
    "Check to see if the length of the word is greater than 2 (as it was researched that there is no adjective in 2-letters)<br>\n",
    "Convert the word to lowercase<br>\n",
    "Remove Stopwords<br>\n",
    "Finally Snowball Stemming the word (it was obsereved to be better than Porter Stemming)<br>\n",
    "\n",
    "After which we collect the words used to describe positive and negative reviews"
   ]
  },
  {
   "cell_type": "code",
   "execution_count": 11,
   "metadata": {},
   "outputs": [
    {
     "name": "stdout",
     "output_type": "stream",
     "text": [
      "This is not jerky, this is processed, hard like a rock, very greasy and stale smelling stripe of something that you can't break into anything smaller than 2 inches long and that certainly is not the size of a training treat! The dogs- 45lb dogs that will eat anything- were not impressed, it was hard to chew, and it sounded like they were crunching rocks, most of them spat it out after a few chews, left it there, this would be the first time they would not eat something in their entire lives, these dogs will work for lettuce. Where is a zero star button?\n",
      "****************************************************************************************************\n",
      "My husband is a Twizzlers addict.  We've bought these many times from Amazon because we're government employees living overseas and can't get them in the country we are assigned to.  They've always been fresh and tasty, packed well and arrive in a timely manner.\n"
     ]
    }
   ],
   "source": [
    "sent_1000=filtered_data[\"Text\"].values[1000]\n",
    "print(sent_1000)\n",
    "print(\"*\"*100)\n",
    "sent_20=filtered_data[\"Text\"].values[20]\n",
    "print(sent_20)"
   ]
  },
  {
   "cell_type": "code",
   "execution_count": 12,
   "metadata": {},
   "outputs": [
    {
     "name": "stdout",
     "output_type": "stream",
     "text": [
      "This is not jerky, this is processed, hard like a rock, very greasy and stale smelling stripe of something that you can't break into anything smaller than 2 inches long and that certainly is not the size of a training treat! The dogs- 45lb dogs that will eat anything- were not impressed, it was hard to chew, and it sounded like they were crunching rocks, most of them spat it out after a few chews, left it there, this would be the first time they would not eat something in their entire lives, these dogs will work for lettuce. Where is a zero star button?\n",
      "********************\n",
      "This is not jerky, this is processed, hard like a rock, very greasy and stale smelling stripe of something that you can't break into anything smaller than  inches long and that certainly is not the size of a training treat! The dogs-  dogs that will eat anything- were not impressed, it was hard to chew, and it sounded like they were crunching rocks, most of them spat it out after a few chews, left it there, this would be the first time they would not eat something in their entire lives, these dogs will work for lettuce. Where is a zero star button?\n",
      "********************\n",
      "This is not jerky this is processed hard like a rock very greasy and stale smelling stripe of something that you can t break into anything smaller than inches long and that certainly is not the size of a training treat The dogs dogs that will eat anything were not impressed it was hard to chew and it sounded like they were crunching rocks most of them spat it out after a few chews left it there this would be the first time they would not eat something in their entire lives these dogs will work for lettuce Where is a zero star button \n",
      "****************************************************************************************************\n"
     ]
    }
   ],
   "source": [
    "#To remove urls in reviews:\n",
    "sent_1000 = re.sub(r\"http\\S+\", \"\", sent_1000)\n",
    "#To remove html tags in reviews:\n",
    "from bs4 import BeautifulSoup\n",
    "soup = BeautifulSoup(sent_1000, 'lxml')\n",
    "text = soup.get_text()\n",
    "print(text)\n",
    "print('*'*20)\n",
    "#To remove words with numbers\n",
    "sent_1000 = re.sub(\"\\S*\\d\\S*\", \"\", sent_1000)\n",
    "print(sent_1000)\n",
    "print('*'*20)\n",
    "#replacing 't with \"not\"\n",
    "def decontracted(phrase):\n",
    "    phrase = re.sub(r\"\\'t\", \"will not\", phrase)\n",
    "    phrase = re.sub(r\"\\'re\", \" are\", phrase)\n",
    "    phrase = re.sub(r\"\\'s\", \" is\", phrase)\n",
    "    phrase = re.sub(r\"\\'d\", \" would\", phrase)\n",
    "    phrase = re.sub(r\"\\'ll\", \" will\", phrase)\n",
    "    phrase = re.sub(r\"\\'ve\", \" have\", phrase)\n",
    "    phrase = re.sub(r\"\\'m\", \" am\", phrase)\n",
    "    return phrase\n",
    "decontracted(sent_1000)\n",
    "#To remove special characters and numericals\n",
    "sent_1000=re.sub('[^A-Za-z]+', ' ', sent_1000)\n",
    "print(sent_1000)\n",
    "print('*'*100)\n"
   ]
  },
  {
   "cell_type": "code",
   "execution_count": 17,
   "metadata": {},
   "outputs": [
    {
     "name": "stderr",
     "output_type": "stream",
     "text": [
      "[nltk_data] Downloading package stopwords to C:\\Users\\Aleti\n",
      "[nltk_data]     Sunil\\AppData\\Roaming\\nltk_data...\n"
     ]
    },
    {
     "name": "stdout",
     "output_type": "stream",
     "text": [
      "{'after', 'are', 'from', 'shouldn', 'theirs', 'both', \"she's\", 'just', 'their', \"isn't\", 'haven', 'before', \"you've\", 'until', 'very', 'too', 'does', 'don', 'whom', 'against', 'once', 'on', 'o', \"haven't\", 'what', \"won't\", \"you're\", \"mightn't\", 'as', 'now', \"you'd\", 'nor', 'most', 'not', 'for', 'his', \"doesn't\", 'wasn', 'out', 'and', 'all', 'did', 'itself', 'over', 'will', 'd', 'he', 'hasn', 't', 'yourself', 'y', 'this', 'that', 'am', 'any', 'didn', 'it', 've', 'weren', \"hasn't\", 'has', 'few', 'up', 'should', 'a', 'while', 'doesn', 'herself', \"needn't\", 'mustn', 'other', 'why', \"that'll\", \"shouldn't\", 'have', 'so', 'me', 'its', 'ourselves', 'about', 'aren', 'there', 'through', 'because', 'above', 'can', 'be', 'having', 'such', 'yourselves', 'but', 'with', 'wouldn', 'do', 'she', 'was', \"weren't\", 'how', 'hadn', 'her', 'hers', 'between', 'i', \"didn't\", 'ours', 'we', 'ain', 'won', 'himself', 'had', 'being', 'myself', 'doing', 're', 'shan', 'the', 'our', 'each', 'then', 'than', 'been', 'again', 'mightn', \"hadn't\", \"wouldn't\", 'my', 'by', 'which', \"it's\", 'here', 'in', 'only', 'if', 'yours', 'into', \"you'll\", 'who', 'down', 'at', 'ma', 'to', 'm', 'where', 'when', \"wasn't\", 'off', 'under', 'same', \"should've\", 's', 'needn', 'were', 'some', 'themselves', 'an', 'those', \"don't\", 'more', 'them', 'of', 'isn', 'no', 'own', 'couldn', 'him', 'these', \"shan't\", 'you', 'further', 'or', 'during', \"aren't\", 'is', 'below', \"couldn't\", 'they', \"mustn't\", 'll', 'your'}\n"
     ]
    },
    {
     "name": "stderr",
     "output_type": "stream",
     "text": [
      "[nltk_data]   Package stopwords is already up-to-date!\n"
     ]
    }
   ],
   "source": [
    "import nltk\n",
    "nltk.download('stopwords')\n",
    "stop_words = set(stopwords.words('english'))\n",
    "sno = nltk.stem.SnowballStemmer('english')\n",
    "print(stop_words)"
   ]
  },
  {
   "cell_type": "code",
   "execution_count": 18,
   "metadata": {},
   "outputs": [
    {
     "data": {
      "text/plain": [
       "(364171, 10)"
      ]
     },
     "execution_count": 18,
     "metadata": {},
     "output_type": "execute_result"
    }
   ],
   "source": [
    "filtered_data.shape"
   ]
  },
  {
   "cell_type": "code",
   "execution_count": 19,
   "metadata": {},
   "outputs": [
    {
     "name": "stderr",
     "output_type": "stream",
     "text": [
      "100%|██████████████████████████████████████████████████████████████████████████████████████████████████████████████████████| 364171/364171 [04:38<00:00, 1307.25it/s]\n"
     ]
    }
   ],
   "source": [
    "from tqdm import tqdm\n",
    "preprocessed_reviews = []\n",
    "# tqdm is for printing the status bar\n",
    "for sentance in tqdm(filtered_data['Text'].values):\n",
    "    sentance = re.sub(r\"http\\S+\", \"\", sentance)\n",
    "    sentance = BeautifulSoup(sentance, 'lxml').get_text()\n",
    "    sentance = decontracted(sentance)\n",
    "    sentance = re.sub(\"\\S*\\d\\S*\", \"\", sentance).strip()\n",
    "    sentance = re.sub('[^A-Za-z]+', ' ', sentance)\n",
    "    sentance = ' '.join(e.lower() for e in sentance.split() if e.lower() not in stop_words and len(e.lower())>2)\n",
    "    s=sno.stem(sentance) #snoball stemmer\n",
    "    preprocessed_reviews.append(s.strip())"
   ]
  },
  {
   "cell_type": "code",
   "execution_count": 20,
   "metadata": {},
   "outputs": [],
   "source": [
    "filtered_data[\"CleanedText\"]=preprocessed_reviews"
   ]
  },
  {
   "cell_type": "code",
   "execution_count": 21,
   "metadata": {},
   "outputs": [
    {
     "data": {
      "text/html": [
       "<div>\n",
       "<style scoped>\n",
       "    .dataframe tbody tr th:only-of-type {\n",
       "        vertical-align: middle;\n",
       "    }\n",
       "\n",
       "    .dataframe tbody tr th {\n",
       "        vertical-align: top;\n",
       "    }\n",
       "\n",
       "    .dataframe thead th {\n",
       "        text-align: right;\n",
       "    }\n",
       "</style>\n",
       "<table border=\"1\" class=\"dataframe\">\n",
       "  <thead>\n",
       "    <tr style=\"text-align: right;\">\n",
       "      <th></th>\n",
       "      <th>Id</th>\n",
       "      <th>ProductId</th>\n",
       "      <th>UserId</th>\n",
       "      <th>ProfileName</th>\n",
       "      <th>HelpfulnessNumerator</th>\n",
       "      <th>HelpfulnessDenominator</th>\n",
       "      <th>Score</th>\n",
       "      <th>Time</th>\n",
       "      <th>Summary</th>\n",
       "      <th>Text</th>\n",
       "      <th>CleanedText</th>\n",
       "    </tr>\n",
       "  </thead>\n",
       "  <tbody>\n",
       "    <tr>\n",
       "      <th>0</th>\n",
       "      <td>1</td>\n",
       "      <td>B001E4KFG0</td>\n",
       "      <td>A3SGXH7AUHU8GW</td>\n",
       "      <td>delmartian</td>\n",
       "      <td>1</td>\n",
       "      <td>1</td>\n",
       "      <td>1</td>\n",
       "      <td>1303862400</td>\n",
       "      <td>Good Quality Dog Food</td>\n",
       "      <td>I have bought several of the Vitality canned d...</td>\n",
       "      <td>bought several vitality canned dog food produc...</td>\n",
       "    </tr>\n",
       "    <tr>\n",
       "      <th>1</th>\n",
       "      <td>2</td>\n",
       "      <td>B00813GRG4</td>\n",
       "      <td>A1D87F6ZCVE5NK</td>\n",
       "      <td>dll pa</td>\n",
       "      <td>0</td>\n",
       "      <td>0</td>\n",
       "      <td>0</td>\n",
       "      <td>1346976000</td>\n",
       "      <td>Not as Advertised</td>\n",
       "      <td>Product arrived labeled as Jumbo Salted Peanut...</td>\n",
       "      <td>product arrived labeled jumbo salted peanuts p...</td>\n",
       "    </tr>\n",
       "    <tr>\n",
       "      <th>2</th>\n",
       "      <td>3</td>\n",
       "      <td>B000LQOCH0</td>\n",
       "      <td>ABXLMWJIXXAIN</td>\n",
       "      <td>Natalia Corres \"Natalia Corres\"</td>\n",
       "      <td>1</td>\n",
       "      <td>1</td>\n",
       "      <td>1</td>\n",
       "      <td>1219017600</td>\n",
       "      <td>\"Delight\" says it all</td>\n",
       "      <td>This is a confection that has been around a fe...</td>\n",
       "      <td>confection around centuries light pillowy citr...</td>\n",
       "    </tr>\n",
       "    <tr>\n",
       "      <th>3</th>\n",
       "      <td>4</td>\n",
       "      <td>B000UA0QIQ</td>\n",
       "      <td>A395BORC6FGVXV</td>\n",
       "      <td>Karl</td>\n",
       "      <td>3</td>\n",
       "      <td>3</td>\n",
       "      <td>0</td>\n",
       "      <td>1307923200</td>\n",
       "      <td>Cough Medicine</td>\n",
       "      <td>If you are looking for the secret ingredient i...</td>\n",
       "      <td>looking secret ingredient robitussin believe f...</td>\n",
       "    </tr>\n",
       "    <tr>\n",
       "      <th>4</th>\n",
       "      <td>5</td>\n",
       "      <td>B006K2ZZ7K</td>\n",
       "      <td>A1UQRSCLF8GW1T</td>\n",
       "      <td>Michael D. Bigham \"M. Wassir\"</td>\n",
       "      <td>0</td>\n",
       "      <td>0</td>\n",
       "      <td>1</td>\n",
       "      <td>1350777600</td>\n",
       "      <td>Great taffy</td>\n",
       "      <td>Great taffy at a great price.  There was a wid...</td>\n",
       "      <td>great taffy great price wide assortment yummy ...</td>\n",
       "    </tr>\n",
       "  </tbody>\n",
       "</table>\n",
       "</div>"
      ],
      "text/plain": [
       "   Id   ProductId          UserId                      ProfileName  \\\n",
       "0   1  B001E4KFG0  A3SGXH7AUHU8GW                       delmartian   \n",
       "1   2  B00813GRG4  A1D87F6ZCVE5NK                           dll pa   \n",
       "2   3  B000LQOCH0   ABXLMWJIXXAIN  Natalia Corres \"Natalia Corres\"   \n",
       "3   4  B000UA0QIQ  A395BORC6FGVXV                             Karl   \n",
       "4   5  B006K2ZZ7K  A1UQRSCLF8GW1T    Michael D. Bigham \"M. Wassir\"   \n",
       "\n",
       "   HelpfulnessNumerator  HelpfulnessDenominator Score        Time  \\\n",
       "0                     1                       1     1  1303862400   \n",
       "1                     0                       0     0  1346976000   \n",
       "2                     1                       1     1  1219017600   \n",
       "3                     3                       3     0  1307923200   \n",
       "4                     0                       0     1  1350777600   \n",
       "\n",
       "                 Summary                                               Text  \\\n",
       "0  Good Quality Dog Food  I have bought several of the Vitality canned d...   \n",
       "1      Not as Advertised  Product arrived labeled as Jumbo Salted Peanut...   \n",
       "2  \"Delight\" says it all  This is a confection that has been around a fe...   \n",
       "3         Cough Medicine  If you are looking for the secret ingredient i...   \n",
       "4            Great taffy  Great taffy at a great price.  There was a wid...   \n",
       "\n",
       "                                         CleanedText  \n",
       "0  bought several vitality canned dog food produc...  \n",
       "1  product arrived labeled jumbo salted peanuts p...  \n",
       "2  confection around centuries light pillowy citr...  \n",
       "3  looking secret ingredient robitussin believe f...  \n",
       "4  great taffy great price wide assortment yummy ...  "
      ]
     },
     "execution_count": 21,
     "metadata": {},
     "output_type": "execute_result"
    }
   ],
   "source": [
    "filtered_data.head(5) #we can a new column has been added "
   ]
  },
  {
   "cell_type": "code",
   "execution_count": 25,
   "metadata": {},
   "outputs": [
    {
     "name": "stdout",
     "output_type": "stream",
     "text": [
      "(364171,)\n",
      "(364171,)\n"
     ]
    }
   ],
   "source": [
    "print(filtered_data[\"CleanedText\"].shape)\n",
    "print(filtered_data[\"Score\"].shape)"
   ]
  },
  {
   "cell_type": "code",
   "execution_count": 23,
   "metadata": {},
   "outputs": [],
   "source": [
    "%matplotlib inline\n",
    "import warnings\n",
    "warnings.filterwarnings(\"ignore\")\n",
    "from sklearn.neighbors import KNeighborsClassifier\n",
    "from sklearn.metrics import accuracy_score\n",
    "from sklearn.model_selection import cross_val_score\n",
    "from collections import Counter\n",
    "from sklearn.metrics import accuracy_score\n",
    "from sklearn import model_selection\n",
    "from sklearn.metrics import f1_score"
   ]
  },
  {
   "cell_type": "markdown",
   "metadata": {},
   "source": [
    "<b>Sorting the reviews with respect to time</b>"
   ]
  },
  {
   "cell_type": "code",
   "execution_count": 26,
   "metadata": {},
   "outputs": [
    {
     "data": {
      "text/plain": [
       "(364171, 11)"
      ]
     },
     "execution_count": 26,
     "metadata": {},
     "output_type": "execute_result"
    }
   ],
   "source": [
    "filtered_data = filtered_data.sort_values('Time', axis=0, ascending=True, inplace=False, kind='quicksort', na_position='last')\n",
    "filtered_data.shape    "
   ]
  },
  {
   "cell_type": "code",
   "execution_count": 27,
   "metadata": {},
   "outputs": [],
   "source": [
    "#Splitting Data\n",
    "%matplotlib inline\n",
    "import warnings\n",
    "from sklearn.model_selection import train_test_split\n",
    "X = filtered_data['CleanedText'] #taking CleanedText into X\n",
    "Y = filtered_data['Score']       #taking Score into Y\n",
    "\n",
    "X_train, X_test, Y_train, Y_test = train_test_split(X, Y, test_size=.33, random_state=0) #Taking 0.33 into Test\n",
    "X_tr, X_cv, Y_tr, Y_cv = train_test_split(X_train, Y_train, test_size=.33, random_state=0)"
   ]
  },
  {
   "cell_type": "code",
   "execution_count": 28,
   "metadata": {},
   "outputs": [
    {
     "name": "stdout",
     "output_type": "stream",
     "text": [
      "X_train, Y_train (243994,) (243994,)\n",
      "X_test, Y_test (120177,) (120177,)\n",
      "X_tr, Y_tr (163475,) (163475,)\n",
      "X_cv, Y_cv (80519,) (80519,)\n"
     ]
    }
   ],
   "source": [
    "print('X_train, Y_train', X_train.shape, Y_train.shape)\n",
    "print('X_test, Y_test', X_test.shape, Y_test.shape)\n",
    "print('X_tr, Y_tr', X_tr.shape, Y_tr.shape)\n",
    "print('X_cv, Y_cv', X_cv.shape, Y_cv.shape)"
   ]
  },
  {
   "cell_type": "code",
   "execution_count": 29,
   "metadata": {},
   "outputs": [],
   "source": [
    "%matplotlib inline\n",
    "import warnings\n",
    "warnings.filterwarnings(\"ignore\")\n",
    "from sklearn.model_selection import cross_val_score\n",
    "from collections import Counter\n",
    "from sklearn.naive_bayes import MultinomialNB\n",
    "from sklearn.metrics import accuracy_score\n",
    "from sklearn import model_selection\n",
    "from sklearn.metrics import f1_score\n",
    "from sklearn.metrics import roc_auc_score"
   ]
  },
  {
   "cell_type": "markdown",
   "metadata": {},
   "source": [
    "<h3>Training Model</h3>"
   ]
  },
  {
   "cell_type": "code",
   "execution_count": 30,
   "metadata": {},
   "outputs": [],
   "source": [
    "def mulnb(X_train,X_cv,Y_train,Y_cv):\n",
    "    best_alpha=0\n",
    "    max_roc_auc=-1\n",
    "    pred_cv = []\n",
    "    pred_train = []\n",
    "    alpha=[10000,5000,1000,500,100,50,10,5,1,0.5,0.1,0.05,0.01,0.005,0.001,0.0005,0.0001,0.00005,0.00001] \n",
    "    for i in alpha[-19:]:\n",
    "        mulbnb = MultinomialNB(alpha=i)\n",
    "        mulbnb.fit(X_train,Y_train)\n",
    "        probs = mulbnb.predict_proba(X_cv)\n",
    "        prob = mulbnb.predict_proba(X_train)\n",
    "        probs = probs[:,1]\n",
    "        prob = prob[:,1]\n",
    "        auc_score_cv = roc_auc_score(Y_cv,probs)\n",
    "        auc_score_train = roc_auc_score(Y_train,prob)\n",
    "        print(i,\" ------> \",auc_score_cv)\n",
    "        pred_cv.append(auc_score_cv)\n",
    "        pred_train.append(auc_score_train)\n",
    "        if(max_roc_auc<auc_score_cv):\n",
    "            max_roc_auc=auc_score_cv\n",
    "            best_alpha=i\n",
    "    print(f\"\\n Best alpha Value {best_alpha} with highest roc_auc Score is {max_roc_auc}\")\n",
    "    sns.set_style(\"darkgrid\")\n",
    "    plt.xscale('log')\n",
    "    plt.plot(alpha, pred_cv,'r-', label = 'CV Data')\n",
    "    plt.plot(alpha,pred_train,'g-', label ='Train Data')\n",
    "    plt.legend(loc='upper right')\n",
    "    plt.title(r'Auc Score v/s $\\alpha$')\n",
    "    plt.xlabel(r\"alpha values\",fontsize=12)\n",
    "    plt.ylabel(\"roc_auc\",fontsize=12)\n",
    "    plt.show()"
   ]
  },
  {
   "cell_type": "markdown",
   "metadata": {},
   "source": [
    "<h3>Testing</h3>"
   ]
  },
  {
   "cell_type": "code",
   "execution_count": 31,
   "metadata": {},
   "outputs": [],
   "source": [
    "import scikitplot.metrics as skplt\n",
    "\n",
    "def testing(X_train,Y_train,X_test,Y_test,optimal_alpha):\n",
    "    bnb = MultinomialNB(optimal_alpha,fit_prior=True, class_prior=None)\n",
    "    bnb.fit(X_train,Y_train)\n",
    "    probs = bnb.predict_proba(X_test) \n",
    "    # keep probabilities for the positive outcome only\n",
    "    probs = probs[:, 1]\n",
    "    print(\"AUC Score\",roc_auc_score(Y_test,probs))\n",
    "    \n",
    "    prediction=bnb.predict(X_test)\n",
    "    skplt.plot_confusion_matrix(Y_test,prediction)\n",
    "    print(\"macro f1 score for data :\",metrics.f1_score(Y_test, prediction, average = 'macro'))\n",
    "    print(\"micro f1 scoore for data:\",metrics.f1_score(Y_test, prediction, average = 'micro'))\n",
    "    print(\"hamming loss for data:\",metrics.hamming_loss(Y_test,prediction))\n",
    "    print(\"Precision recall report for data:\\n\",metrics.classification_report(Y_test, prediction))\n",
    "    print(probs)"
   ]
  },
  {
   "cell_type": "markdown",
   "metadata": {},
   "source": [
    "<h3>Vectorization using BOW</h3>"
   ]
  },
  {
   "cell_type": "code",
   "execution_count": 32,
   "metadata": {},
   "outputs": [
    {
     "name": "stdout",
     "output_type": "stream",
     "text": [
      "The type of count vectorizer  <class 'scipy.sparse.csr.csr_matrix'>\n",
      "The shape of out text BOW vectorizer  (163475, 79563)\n",
      "CV Data Size:  (80519, 79563)\n",
      "Test Data Size:  (120177, 79563)\n"
     ]
    }
   ],
   "source": [
    "#BoW\n",
    "count_vect = CountVectorizer() #in scikit-learn\n",
    "bow_train = count_vect.fit_transform(X_tr)\n",
    "print(\"The type of count vectorizer \",type(bow_train))\n",
    "print(\"The shape of out text BOW vectorizer \",bow_train.get_shape())\n",
    "#print(\"the number of unique words \", final_counts.get_shape()[1])\n",
    "bow_cv = count_vect.transform(X_cv)\n",
    "bow_test = count_vect.transform(X_test)\n",
    "print(\"CV Data Size: \",bow_cv.shape)\n",
    "print(\"Test Data Size: \",bow_test.shape)"
   ]
  },
  {
   "cell_type": "code",
   "execution_count": 33,
   "metadata": {},
   "outputs": [
    {
     "name": "stdout",
     "output_type": "stream",
     "text": [
      "The shape of out text BOW vectorizer  (163475, 79563)\n",
      "CV Data Size:  (80519, 79563)\n",
      "Test Data Size:  (120177, 79563)\n"
     ]
    }
   ],
   "source": [
    "#Normalize Data\n",
    "from sklearn import preprocessing\n",
    "from sklearn.preprocessing import Normalizer\n",
    "bow_train=preprocessing.normalize(bow_train)\n",
    "bow_cv=preprocessing.normalize(bow_cv)\n",
    "bow_test=preprocessing.normalize(bow_test)\n",
    "print(\"The shape of out text BOW vectorizer \",bow_train.get_shape())\n",
    "print(\"CV Data Size: \",bow_cv.shape)\n",
    "print(\"Test Data Size: \",bow_test.shape)"
   ]
  },
  {
   "cell_type": "code",
   "execution_count": 34,
   "metadata": {},
   "outputs": [
    {
     "name": "stdout",
     "output_type": "stream",
     "text": [
      "10000  ------>  0.6258449262455006\n",
      "5000  ------>  0.6305960705126064\n",
      "1000  ------>  0.6487858028691605\n",
      "500  ------>  0.6580853769432105\n",
      "100  ------>  0.6826762992935134\n",
      "50  ------>  0.6976009851571647\n",
      "10  ------>  0.763936328682423\n",
      "5  ------>  0.8138958832706193\n",
      "1  ------>  0.9185191802308301\n",
      "0.5  ------>  0.9336567750696835\n",
      "0.1  ------>  0.9409048485108857\n",
      "0.05  ------>  0.9407553659698354\n",
      "0.01  ------>  0.9369533927670989\n",
      "0.005  ------>  0.9340010076790717\n",
      "0.001  ------>  0.9248571553482374\n",
      "0.0005  ------>  0.9202331526498724\n",
      "0.0001  ------>  0.9086783489403853\n",
      "5e-05  ------>  0.9035645303007285\n",
      "1e-05  ------>  0.8918367342502\n",
      "\n",
      " Best alpha Value 0.1 with highest roc_auc Score is 0.9409048485108857\n"
     ]
    },
    {
     "data": {
      "image/png": "[encoded data removed]",
      "text/plain": [
       "<Figure size 432x288 with 1 Axes>"
      ]
     },
     "metadata": {},
     "output_type": "display_data"
    }
   ],
   "source": [
    "# find optimal alpha \n",
    "mulnb(bow_train,bow_cv,Y_tr,Y_cv)"
   ]
  },
  {
   "cell_type": "code",
   "execution_count": 35,
   "metadata": {},
   "outputs": [
    {
     "name": "stdout",
     "output_type": "stream",
     "text": [
      "AUC Score 0.9406719361192301\n",
      "macro f1 score for data : 0.6472968098800108\n",
      "micro f1 scoore for data: 0.8757416144520166\n",
      "hamming loss for data: 0.1242583855479834\n",
      "Precision recall report for data:\n",
      "               precision    recall  f1-score   support\n",
      "\n",
      "           0       0.92      0.23      0.36     18848\n",
      "           1       0.87      1.00      0.93    101329\n",
      "\n",
      "    accuracy                           0.88    120177\n",
      "   macro avg       0.90      0.61      0.65    120177\n",
      "weighted avg       0.88      0.88      0.84    120177\n",
      "\n",
      "[0.94836062 0.8010493  0.96031265 ... 0.88983131 0.99658319 0.95478868]\n"
     ]
    },
    {
     "data": {
      "image/png": "[encoded data removed]",
      "text/plain": [
       "<Figure size 432x288 with 2 Axes>"
      ]
     },
     "metadata": {},
     "output_type": "display_data"
    }
   ],
   "source": [
    "testing(bow_train,Y_tr,bow_test,Y_test,optimal_alpha=0.1)"
   ]
  },
  {
   "cell_type": "markdown",
   "metadata": {},
   "source": [
    "<h3>Vectorization using TF-IDF</h3>"
   ]
  },
  {
   "cell_type": "code",
   "execution_count": 36,
   "metadata": {},
   "outputs": [
    {
     "name": "stdout",
     "output_type": "stream",
     "text": [
      "The type of count vectorizer  <class 'scipy.sparse.csr.csr_matrix'>\n",
      "The shape of out text TFIDF vectorizer  (163475, 2306210)\n",
      "CV Data Size:  (80519, 2306210)\n",
      "Test Data Size:  (120177, 2306210)\n"
     ]
    }
   ],
   "source": [
    "#tfidf\n",
    "tf_idf_vect = TfidfVectorizer(ngram_range=(1,2))\n",
    "tfidf_train = tf_idf_vect.fit_transform(X_tr)\n",
    "print(\"The type of count vectorizer \",type(tfidf_train))\n",
    "print(\"The shape of out text TFIDF vectorizer \",tfidf_train.get_shape())\n",
    "tfidf_cv = tf_idf_vect.transform(X_cv)\n",
    "tfidf_test = tf_idf_vect.transform(X_test)\n",
    "print(\"CV Data Size: \",tfidf_cv.shape)\n",
    "print(\"Test Data Size: \",tfidf_test.shape)"
   ]
  },
  {
   "cell_type": "code",
   "execution_count": 37,
   "metadata": {},
   "outputs": [
    {
     "name": "stdout",
     "output_type": "stream",
     "text": [
      "The shape of out text BOW vectorizer  (163475, 2306210)\n",
      "CV Data Size:  (80519, 2306210)\n",
      "Test Data Size:  (120177, 2306210)\n"
     ]
    }
   ],
   "source": [
    "#Normalize Data\n",
    "from sklearn import preprocessing\n",
    "from sklearn.preprocessing import Normalizer\n",
    "tfidf_train=preprocessing.normalize(tfidf_train)\n",
    "tfidf_cv=preprocessing.normalize(tfidf_cv)\n",
    "tfidf_test=preprocessing.normalize(tfidf_test)\n",
    "print(\"The shape of out text BOW vectorizer \",tfidf_train.get_shape())\n",
    "print(\"CV Data Size: \",tfidf_cv.shape)\n",
    "print(\"Test Data Size: \",tfidf_test.shape)"
   ]
  },
  {
   "cell_type": "code",
   "execution_count": 38,
   "metadata": {},
   "outputs": [
    {
     "name": "stdout",
     "output_type": "stream",
     "text": [
      "10000  ------>  0.6393633651356851\n",
      "5000  ------>  0.6403886035055844\n",
      "1000  ------>  0.646793462449426\n",
      "500  ------>  0.6522634567797235\n",
      "100  ------>  0.673374680939848\n",
      "50  ------>  0.6866112067749817\n",
      "10  ------>  0.7269504048695193\n",
      "5  ------>  0.7490560816472328\n",
      "1  ------>  0.8207965039821703\n",
      "0.5  ------>  0.8622018459089864\n",
      "0.1  ------>  0.9371196888943515\n",
      "0.05  ------>  0.9455772909348665\n",
      "0.01  ------>  0.9385648356218955\n",
      "0.005  ------>  0.9304560772159731\n",
      "0.001  ------>  0.907730008912498\n",
      "0.0005  ------>  0.8979321302861173\n",
      "0.0001  ------>  0.8774180823963391\n",
      "5e-05  ------>  0.869717965433623\n",
      "1e-05  ------>  0.8542826129116644\n",
      "\n",
      " Best alpha Value 0.05 with highest roc_auc Score is 0.9455772909348665\n"
     ]
    },
    {
     "data": {
      "image/png": "[encoded data removed]",
      "text/plain": [
       "<Figure size 432x288 with 1 Axes>"
      ]
     },
     "metadata": {},
     "output_type": "display_data"
    }
   ],
   "source": [
    "# find optimal_alpha\n",
    "mulnb(tfidf_train,tfidf_cv,Y_tr,Y_cv)"
   ]
  },
  {
   "cell_type": "code",
   "execution_count": 39,
   "metadata": {},
   "outputs": [
    {
     "name": "stdout",
     "output_type": "stream",
     "text": [
      "AUC Score 0.946165738008254\n",
      "macro f1 score for data : 0.703091933724117\n",
      "micro f1 scoore for data: 0.8889554573670503\n",
      "hamming loss for data: 0.11104454263294973\n",
      "Precision recall report for data:\n",
      "               precision    recall  f1-score   support\n",
      "\n",
      "           0       0.94      0.31      0.47     18848\n",
      "           1       0.89      1.00      0.94    101329\n",
      "\n",
      "    accuracy                           0.89    120177\n",
      "   macro avg       0.91      0.65      0.70    120177\n",
      "weighted avg       0.89      0.89      0.86    120177\n",
      "\n",
      "[0.99851878 0.99274552 0.9961332  ... 0.99715957 0.99984182 0.99537934]\n"
     ]
    },
    {
     "data": {
      "image/png": "[encoded data removed]",
      "text/plain": [
       "<Figure size 432x288 with 2 Axes>"
      ]
     },
     "metadata": {},
     "output_type": "display_data"
    }
   ],
   "source": [
    "testing(tfidf_train,Y_tr,tfidf_test,Y_test,optimal_alpha=0.05)"
   ]
  },
  {
   "cell_type": "code",
   "execution_count": 41,
   "metadata": {},
   "outputs": [
    {
     "data": {
      "text/markdown": [
       "****Final Conclusion:****"
      ],
      "text/plain": [
       "<IPython.core.display.Markdown object>"
      ]
     },
     "metadata": {},
     "output_type": "display_data"
    },
    {
     "name": "stdout",
     "output_type": "stream",
     "text": [
      "+------------+---------------+-----------------------------+----------------+\n",
      "| Vectorizer |     Model     | Best hyper parameter(alpha) | Test Auc Score |\n",
      "+------------+---------------+-----------------------------+----------------+\n",
      "|    BoW     | MultinomialNB |             0.1             |      94.0      |\n",
      "|   Tf-Idf   | MultinomialNB |             0.05            |      94.6      |\n",
      "+------------+---------------+-----------------------------+----------------+\n"
     ]
    }
   ],
   "source": [
    "from prettytable import PrettyTable\n",
    "x = PrettyTable()\n",
    "x.field_names = [\"Vectorizer\", \"Model\", \"Best hyper parameter(alpha)\",\"Test Auc Score\"]\n",
    "x.add_row([\"BoW\",\"MultinomialNB\",0.1,94.0])\n",
    "x.add_row([\"Tf-Idf\",\"MultinomialNB\",0.05,94.6])\n",
    "from IPython.display import Markdown, display\n",
    "def printmd(string):\n",
    "    display(Markdown(string))\n",
    "printmd('****Final Conclusion:****')\n",
    "print(x)"
   ]
  },
  {
   "cell_type": "code",
   "execution_count": null,
   "metadata": {},
   "outputs": [],
   "source": []
  }
 ],
 "metadata": {
  "kernelspec": {
   "display_name": "Python 3",
   "language": "python",
   "name": "python3"
  },
  "language_info": {
   "codemirror_mode": {
    "name": "ipython",
    "version": 3
   },
   "file_extension": ".py",
   "mimetype": "text/x-python",
   "name": "python",
   "nbconvert_exporter": "python",
   "pygments_lexer": "ipython3",
   "version": "3.7.6"
  }
 },
 "nbformat": 4,
 "nbformat_minor": 4
}
